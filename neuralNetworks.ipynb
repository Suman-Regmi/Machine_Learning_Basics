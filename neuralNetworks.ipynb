{
 "cells": [
  {
   "cell_type": "code",
   "execution_count": 1,
   "metadata": {},
   "outputs": [],
   "source": [
    "from sklearn.preprocessing import StandardScaler, PolynomialFeatures\n",
    "import numpy as np\n",
    "import pandas as pd\n",
    "from matplotlib import pyplot as plt\n",
    "from sklearn.datasets import load_digits\n",
    "from sklearn.model_selection import train_test_split"
   ]
  },
  {
   "cell_type": "code",
   "execution_count": 19,
   "metadata": {},
   "outputs": [
    {
     "data": {
      "text/plain": [
       "(1797, 64)"
      ]
     },
     "execution_count": 19,
     "metadata": {},
     "output_type": "execute_result"
    }
   ],
   "source": [
    "digits = load_digits()\n",
    "digits.data.shape"
   ]
  },
  {
   "cell_type": "markdown",
   "metadata": {},
   "source": [
    "Let's make a neural network with two hidden layers and one input and one output data!"
   ]
  },
  {
   "cell_type": "code",
   "execution_count": 20,
   "metadata": {},
   "outputs": [
    {
     "data": {
      "text/plain": [
       "<matplotlib.image.AxesImage at 0x2268472a690>"
      ]
     },
     "execution_count": 20,
     "metadata": {},
     "output_type": "execute_result"
    },
    {
     "data": {
      "image/png": "[encoded data removed]",
      "text/plain": [
       "<Figure size 200x200 with 1 Axes>"
      ]
     },
     "metadata": {},
     "output_type": "display_data"
    }
   ],
   "source": [
    "X = digits.data\n",
    "Y = digits.target\n",
    "plt.figure(figsize = (2,2))\n",
    "plt.imshow(X[12].reshape(8,8) , cmap = \"gray\")"
   ]
  },
  {
   "cell_type": "code",
   "execution_count": 23,
   "metadata": {},
   "outputs": [],
   "source": [
    "trainX, testX, trainY , testY = train_test_split(X,Y, test_size = 0.2, shuffle = True)\n",
    "scaler = StandardScaler()\n",
    "trainXscaled = scaler.fit_transform(trainX)\n",
    "testXscaled = scaler.transform(testX)\n",
    "trainXscaled = trainXscaled.T\n",
    "testXscaled = testXscaled.T"
   ]
  },
  {
   "cell_type": "code",
   "execution_count": 42,
   "metadata": {},
   "outputs": [],
   "source": [
    "def forward_pass(w,x):\n",
    "    return (w@x)\n",
    "\n",
    "def cross_entropy():\n",
    "    pass\n",
    "def compute_loss(fn, y_hat, y_true):\n",
    "    return fn(y_hat, y_true)\n",
    "\n",
    "def sigmoid_activation(z):\n",
    "    return 1/(1+np.exp(-z))\n",
    "\n",
    "def softmax_activation(z):\n",
    "    return np.exp(-z)/(np.exp(-z)).sum()\n",
    "\n",
    "def gradient_softmax(z):\n",
    "    return z*(1-z)\n",
    "\n"
   ]
  },
  {
   "cell_type": "code",
   "execution_count": 43,
   "metadata": {},
   "outputs": [],
   "source": [
    "first_layer = np.random.normal(size = (10,64))\n",
    "output1 = forward_pass(first_layer, trainXscaled)\n",
    "activated_1 = sigmoid_activation(output1)"
   ]
  },
  {
   "cell_type": "code",
   "execution_count": 44,
   "metadata": {},
   "outputs": [
    {
     "data": {
      "text/plain": [
       "(10, 1437)"
      ]
     },
     "execution_count": 44,
     "metadata": {},
     "output_type": "execute_result"
    }
   ],
   "source": [
    "activated_1.shape"
   ]
  },
  {
   "cell_type": "code",
   "execution_count": 46,
   "metadata": {},
   "outputs": [],
   "source": [
    "second_layer = np.random.normal(size = (10,10))\n",
    "output2 = forward_pass(second_layer,activated_1)\n",
    "activated_2 = sigmoid_activation(output2)"
   ]
  },
  {
   "cell_type": "code",
   "execution_count": 49,
   "metadata": {},
   "outputs": [],
   "source": [
    "third_layer = np.random.normal(size = (10,10))\n",
    "output3 = forward_pass(third_layer,activated_2)\n",
    "activated_3 = softmax_activation(output3)"
   ]
  },
  {
   "cell_type": "code",
   "execution_count": 51,
   "metadata": {},
   "outputs": [
    {
     "data": {
      "text/plain": [
       "(10, 1437)"
      ]
     },
     "execution_count": 51,
     "metadata": {},
     "output_type": "execute_result"
    }
   ],
   "source": [
    "activated_3.shape"
   ]
  },
  {
   "cell_type": "code",
   "execution_count": 65,
   "metadata": {},
   "outputs": [],
   "source": [
    "alpha = 0.01\n",
    "# third_layer -= alpha * (activated_3 - trainY)"
   ]
  },
  {
   "cell_type": "code",
   "execution_count": 66,
   "metadata": {},
   "outputs": [
    {
     "name": "stdout",
     "output_type": "stream",
     "text": [
      "(10, 10) (10, 1437)\n"
     ]
    }
   ],
   "source": [
    "print(third_layer.shape, activated_2.shape)"
   ]
  },
  {
   "cell_type": "code",
   "execution_count": 70,
   "metadata": {},
   "outputs": [],
   "source": [
    "\n"
   ]
  },
  {
   "cell_type": "code",
   "execution_count": 74,
   "metadata": {},
   "outputs": [
    {
     "data": {
      "text/plain": [
       "(10, 1437)"
      ]
     },
     "execution_count": 74,
     "metadata": {},
     "output_type": "execute_result"
    }
   ],
   "source": [
    "(alpha * (activated_3 - trainY)).shape"
   ]
  },
  {
   "cell_type": "code",
   "execution_count": 77,
   "metadata": {},
   "outputs": [
    {
     "data": {
      "text/plain": [
       "(1437,)"
      ]
     },
     "execution_count": 77,
     "metadata": {},
     "output_type": "execute_result"
    }
   ],
   "source": [
    "\n",
    "trainY.shape"
   ]
  },
  {
   "cell_type": "code",
   "execution_count": 81,
   "metadata": {},
   "outputs": [],
   "source": [
    "newTrainY = np.zeros((10,trainY.shape[0]))\n",
    "for i in range(newTrainY.shape[1]):\n",
    "    newTrainY[trainY[i],i] = 1"
   ]
  },
  {
   "cell_type": "code",
   "execution_count": 87,
   "metadata": {},
   "outputs": [
    {
     "data": {
      "text/plain": [
       "(10, 1437)"
      ]
     },
     "execution_count": 87,
     "metadata": {},
     "output_type": "execute_result"
    }
   ],
   "source": [
    "(activated_3 - newTrainY).shape"
   ]
  },
  {
   "cell_type": "code",
   "execution_count": 85,
   "metadata": {},
   "outputs": [
    {
     "data": {
      "text/plain": [
       "(10, 1437)"
      ]
     },
     "execution_count": 85,
     "metadata": {},
     "output_type": "execute_result"
    }
   ],
   "source": [
    "activated_3.shape"
   ]
  },
  {
   "cell_type": "code",
   "execution_count": 88,
   "metadata": {},
   "outputs": [
    {
     "data": {
      "text/plain": [
       "(10, 1437)"
      ]
     },
     "execution_count": 88,
     "metadata": {},
     "output_type": "execute_result"
    }
   ],
   "source": [
    "activated_2.shape"
   ]
  },
  {
   "cell_type": "code",
   "execution_count": 93,
   "metadata": {},
   "outputs": [
    {
     "data": {
      "text/plain": [
       "array([-6.32998587e-06, -2.18367103e-06, -8.60833164e-06, ...,\n",
       "       -7.90446887e-06, -2.47820815e-06, -2.19465064e-06])"
      ]
     },
     "execution_count": 93,
     "metadata": {},
     "output_type": "execute_result"
    }
   ],
   "source": [
    "gradient_thirdlayer = np.zeros((10,10))\n",
    "for i in range(third_layer.shape[0]):\n",
    "\n",
    "    gradient_thirdlayer[i,0] = (activated_3 - newTrainY)[0]\n",
    "third_layer[1,0]*(activated_3 - newTrainY)[0]\n",
    "\n",
    "# third_layer[:,1]*(activated_3 - newTrainY)[1]\n",
    "# third_layer[:,2]*(activated_3 - newTrainY)[2]\n",
    "# third_layer[:,3]*(activated_3 - newTrainY)[3]\n",
    "# third_layer[:,4]*(activated_3 - newTrainY)[4]"
   ]
  },
  {
   "cell_type": "code",
   "execution_count": 98,
   "metadata": {},
   "outputs": [
    {
     "data": {
      "text/plain": [
       "(10, 10)"
      ]
     },
     "execution_count": 98,
     "metadata": {},
     "output_type": "execute_result"
    }
   ],
   "source": [
    "third_layer.shape"
   ]
  },
  {
   "cell_type": "code",
   "execution_count": 97,
   "metadata": {},
   "outputs": [
    {
     "data": {
      "text/plain": [
       "(array([1300.,    0.,    0.,    0.,    0.,    0.,    0.,    0.,    0.,\n",
       "         137.]),\n",
       " array([-2.01332107e-05,  2.15383759e-02,  4.30968851e-02,  6.46553942e-02,\n",
       "         8.62139033e-02,  1.07772412e-01,  1.29330922e-01,  1.50889431e-01,\n",
       "         1.72447940e-01,  1.94006449e-01,  2.15564958e-01]),\n",
       " <BarContainer object of 10 artists>)"
      ]
     },
     "execution_count": 97,
     "metadata": {},
     "output_type": "execute_result"
    },
    {
     "data": {
      "image/png": "[encoded data removed]",
      "text/plain": [
       "<Figure size 640x480 with 1 Axes>"
      ]
     },
     "metadata": {},
     "output_type": "display_data"
    }
   ],
   "source": []
  },
  {
   "cell_type": "code",
   "execution_count": null,
   "metadata": {},
   "outputs": [],
   "source": []
  }
 ],
 "metadata": {
  "kernelspec": {
   "display_name": "MLCoursera",
   "language": "python",
   "name": "python3"
  },
  "language_info": {
   "codemirror_mode": {
    "name": "ipython",
    "version": 3
   },
   "file_extension": ".py",
   "mimetype": "text/x-python",
   "name": "python",
   "nbconvert_exporter": "python",
   "pygments_lexer": "ipython3",
   "version": "3.11.4"
  }
 },
 "nbformat": 4,
 "nbformat_minor": 2
}
