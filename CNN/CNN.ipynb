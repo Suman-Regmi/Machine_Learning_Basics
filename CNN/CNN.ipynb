{
  "nbformat": 4,
  "nbformat_minor": 0,
  "metadata": {
    "colab": {
      "provenance": [],
      "gpuType": "V28"
    },
    "kernelspec": {
      "name": "python3",
      "display_name": "Python 3"
    },
    "language_info": {
      "name": "python"
    },
    "accelerator": "TPU"
  },
  "cells": [
    {
      "cell_type": "code",
      "execution_count": 30,
      "metadata": {
        "id": "Pahd032YclY0"
      },
      "outputs": [],
      "source": [
        "import tensorflow as tf\n",
        "from tensorflow.keras.layers import Dense, Flatten, Conv2D, Input,MaxPooling2D, Dropout\n",
        "from tensorflow.keras.models import Sequential\n",
        "from tensorflow.keras.optimizers import Adam\n",
        "from tensorflow.keras.regularizers import l2\n",
        "from tensorflow.keras.preprocessing.image import ImageDataGenerator\n"
      ]
    },
    {
      "cell_type": "code",
      "source": [
        "tf.__version__\n",
        "tf.config.list_physical_devices('GPU')"
      ],
      "metadata": {
        "colab": {
          "base_uri": "https://localhost:8080/"
        },
        "id": "hCarNhiMdNYz",
        "outputId": "6f180f53-b597-4071-cec6-c909f6b117e4"
      },
      "execution_count": 31,
      "outputs": [
        {
          "output_type": "execute_result",
          "data": {
            "text/plain": [
              "[]"
            ]
          },
          "metadata": {},
          "execution_count": 31
        }
      ]
    },
    {
      "cell_type": "code",
      "source": [
        "(x_train, y_train), (x_test,y_test) = tf.keras.datasets.cifar10.load_data()"
      ],
      "metadata": {
        "id": "PXPNmGL8dSSE"
      },
      "execution_count": 32,
      "outputs": []
    },
    {
      "cell_type": "code",
      "source": [
        "class_names = ['airplane', 'automobile', 'bird', 'cat', 'deer', 'dog', 'frog', 'horse', 'ship', 'truck']\n",
        "x_test, x_train = x_test / 255.0, x_train / 255.0\n",
        "x_train.shape\n"
      ],
      "metadata": {
        "colab": {
          "base_uri": "https://localhost:8080/"
        },
        "id": "ShSugPNwd6j-",
        "outputId": "3a7567a3-8ab0-423a-c3ba-b85a08a46a74"
      },
      "execution_count": 33,
      "outputs": [
        {
          "output_type": "execute_result",
          "data": {
            "text/plain": [
              "(50000, 32, 32, 3)"
            ]
          },
          "metadata": {},
          "execution_count": 33
        }
      ]
    },
    {
      "cell_type": "code",
      "source": [
        "datagen = ImageDataGenerator(\n",
        "    rotation_range=40,\n",
        "    width_shift_range=0.2,\n",
        "    height_shift_range=0.2,\n",
        "    shear_range=0.2,\n",
        "    zoom_range=0.2,\n",
        "    horizontal_flip=True,\n",
        "    fill_mode='nearest'\n",
        ")\n",
        "\n",
        "model = Sequential([\n",
        "    Input(shape=(32, 32, 3)),\n",
        "    Conv2D(filters=512, kernel_size=(3, 3), activation='relu', padding='same', strides=2, kernel_regularizer = l2(0.01)),\n",
        "    MaxPooling2D(pool_size=(2, 2)),\n",
        "\n",
        "    Conv2D(filters=256, kernel_size=(3, 3), activation='relu', padding='same', strides=1, kernel_regularizer = l2(0.01)),\n",
        "    MaxPooling2D(pool_size=(2, 2)),\n",
        "\n",
        "    Conv2D(filters=256, kernel_size=(3, 3), activation='relu', padding='same', strides=1, kernel_regularizer = l2(0.01)),\n",
        "    MaxPooling2D(pool_size=(2, 2)),\n",
        "    Conv2D(filters=256, kernel_size=(3, 3), activation='relu', padding='same', strides=1, kernel_regularizer = l2(0.01)),\n",
        "    MaxPooling2D(pool_size=(2, 2)),\n",
        "\n",
        "    Dropout(0.2),\n",
        "\n",
        "    Flatten(),\n",
        "    Dense(128, activation='relu'),\n",
        "    Dropout(0.3),\n",
        "    Dense(len(class_names), activation='softmax')\n",
        "])\n",
        "from sklearn.model_selection import train_test_split\n",
        "\n",
        "x_train, x_valid, y_train, y_valid = train_test_split(x_train, y_train, test_size=0.2, random_state=42)\n",
        "from tensorflow.keras.callbacks import ReduceLROnPlateau\n",
        "\n",
        "optimizer = Adam(lr = 0.001)\n",
        "# Define the callback\n",
        "reduce_lr = ReduceLROnPlateau(\n",
        "    monitor='val_loss',        # Monitor validation loss\n",
        "    factor=0.1,                # Reduce learning rate by a factor of 0.1\n",
        "    patience=10,               # Wait for 10 epochs before reducing learning rate\n",
        "    min_lr=1e-6,               # Minimum learning rate\n",
        "    verbose=1                  # Print messages about learning rate reductions\n",
        ")"
      ],
      "metadata": {
        "id": "o73-SJ9JeV2v",
        "colab": {
          "base_uri": "https://localhost:8080/"
        },
        "outputId": "71167d32-4c16-4cc2-cfb0-3f13f14d4bfa"
      },
      "execution_count": 34,
      "outputs": [
        {
          "output_type": "stream",
          "name": "stderr",
          "text": [
            "WARNING:absl:`lr` is deprecated in Keras optimizer, please use `learning_rate` or use the legacy optimizer, e.g.,tf.keras.optimizers.legacy.Adam.\n"
          ]
        }
      ]
    },
    {
      "cell_type": "code",
      "source": [
        "model.compile(optimizer=optimizer, loss='sparse_categorical_crossentropy', metrics=['accuracy'])\n",
        "datagen.fit(x_train)\n",
        "\n",
        "history = model.fit_generator(datagen.flow(x_train, y_train, batch_size= 128), epochs=500, steps_per_epoch=x_train.shape[0]//128,validation_data=(x_valid, y_valid), callbacks = [reduce_lr])"
      ],
      "metadata": {
        "colab": {
          "base_uri": "https://localhost:8080/"
        },
        "id": "A5SXs_wTgzKn",
        "outputId": "33b2e509-fafc-4ea6-af35-f82f5f465ed3"
      },
      "execution_count": null,
      "outputs": [
        {
          "output_type": "stream",
          "name": "stdout",
          "text": [
            "Epoch 1/500\n"
          ]
        },
        {
          "output_type": "stream",
          "name": "stderr",
          "text": [
            "<ipython-input-35-ac2912f0e678>:4: UserWarning: `Model.fit_generator` is deprecated and will be removed in a future version. Please use `Model.fit`, which supports generators.\n",
            "  history = model.fit_generator(datagen.flow(x_train, y_train, batch_size= 128), epochs=500, steps_per_epoch=x_train.shape[0]//128,validation_data=(x_valid, y_valid), callbacks = [reduce_lr])\n"
          ]
        },
        {
          "output_type": "stream",
          "name": "stdout",
          "text": [
            "312/312 [==============================] - 47s 148ms/step - loss: 2.4529 - accuracy: 0.2283 - val_loss: 2.0489 - val_accuracy: 0.0510 - lr: 0.0010\n",
            "Epoch 2/500\n",
            "312/312 [==============================] - 46s 146ms/step - loss: 2.0728 - accuracy: 0.1062 - val_loss: 2.0006 - val_accuracy: 0.0533 - lr: 0.0010\n",
            "Epoch 3/500\n",
            "312/312 [==============================] - 45s 145ms/step - loss: 2.0322 - accuracy: 0.0947 - val_loss: 1.9697 - val_accuracy: 0.0229 - lr: 0.0010\n",
            "Epoch 4/500\n",
            "312/312 [==============================] - 45s 146ms/step - loss: 1.9977 - accuracy: 0.0991 - val_loss: 1.9025 - val_accuracy: 0.1706 - lr: 0.0010\n",
            "Epoch 5/500\n",
            "312/312 [==============================] - 46s 146ms/step - loss: 1.9663 - accuracy: 0.0970 - val_loss: 1.8726 - val_accuracy: 0.0339 - lr: 0.0010\n",
            "Epoch 6/500\n",
            "312/312 [==============================] - 45s 145ms/step - loss: 1.9511 - accuracy: 0.0952 - val_loss: 1.8303 - val_accuracy: 0.1084 - lr: 0.0010\n",
            "Epoch 7/500\n",
            "312/312 [==============================] - 45s 145ms/step - loss: 1.9328 - accuracy: 0.0810 - val_loss: 1.8174 - val_accuracy: 0.1491 - lr: 0.0010\n",
            "Epoch 8/500\n",
            "312/312 [==============================] - 45s 145ms/step - loss: 1.9117 - accuracy: 0.0791 - val_loss: 1.7946 - val_accuracy: 0.0491 - lr: 0.0010\n",
            "Epoch 9/500\n",
            "312/312 [==============================] - 46s 146ms/step - loss: 1.8913 - accuracy: 0.0780 - val_loss: 1.8046 - val_accuracy: 0.0432 - lr: 0.0010\n",
            "Epoch 10/500\n",
            "312/312 [==============================] - 45s 145ms/step - loss: 1.8837 - accuracy: 0.0834 - val_loss: 1.7615 - val_accuracy: 0.0675 - lr: 0.0010\n",
            "Epoch 11/500\n",
            "312/312 [==============================] - 45s 145ms/step - loss: 1.8520 - accuracy: 0.0880 - val_loss: 1.7582 - val_accuracy: 0.0706 - lr: 0.0010\n",
            "Epoch 12/500\n",
            "312/312 [==============================] - 46s 146ms/step - loss: 1.8480 - accuracy: 0.0866 - val_loss: 1.7164 - val_accuracy: 0.1067 - lr: 0.0010\n",
            "Epoch 13/500\n",
            "312/312 [==============================] - 45s 145ms/step - loss: 1.8261 - accuracy: 0.0907 - val_loss: 1.6865 - val_accuracy: 0.0568 - lr: 0.0010\n",
            "Epoch 14/500\n",
            "312/312 [==============================] - 45s 146ms/step - loss: 1.8123 - accuracy: 0.0922 - val_loss: 1.6686 - val_accuracy: 0.1058 - lr: 0.0010\n",
            "Epoch 15/500\n",
            "312/312 [==============================] - 45s 145ms/step - loss: 1.8006 - accuracy: 0.0907 - val_loss: 1.6679 - val_accuracy: 0.0778 - lr: 0.0010\n",
            "Epoch 16/500\n",
            "312/312 [==============================] - 45s 144ms/step - loss: 1.7812 - accuracy: 0.0895 - val_loss: 1.7152 - val_accuracy: 0.0953 - lr: 0.0010\n",
            "Epoch 17/500\n",
            "312/312 [==============================] - 45s 145ms/step - loss: 1.7698 - accuracy: 0.0909 - val_loss: 1.8276 - val_accuracy: 0.0205 - lr: 0.0010\n",
            "Epoch 18/500\n",
            "312/312 [==============================] - 45s 145ms/step - loss: 1.7649 - accuracy: 0.0908 - val_loss: 1.6150 - val_accuracy: 0.0893 - lr: 0.0010\n",
            "Epoch 19/500\n",
            "312/312 [==============================] - 45s 145ms/step - loss: 1.7579 - accuracy: 0.0921 - val_loss: 1.6032 - val_accuracy: 0.0859 - lr: 0.0010\n",
            "Epoch 20/500\n",
            "312/312 [==============================] - 45s 145ms/step - loss: 1.7513 - accuracy: 0.0908 - val_loss: 1.6105 - val_accuracy: 0.0708 - lr: 0.0010\n",
            "Epoch 21/500\n",
            "312/312 [==============================] - 45s 145ms/step - loss: 1.7508 - accuracy: 0.0918 - val_loss: 1.7655 - val_accuracy: 0.0621 - lr: 0.0010\n",
            "Epoch 22/500\n",
            "312/312 [==============================] - 45s 145ms/step - loss: 1.7325 - accuracy: 0.0927 - val_loss: 1.6131 - val_accuracy: 0.0837 - lr: 0.0010\n",
            "Epoch 23/500\n",
            "312/312 [==============================] - 45s 145ms/step - loss: 1.7210 - accuracy: 0.0916 - val_loss: 1.5779 - val_accuracy: 0.0624 - lr: 0.0010\n",
            "Epoch 24/500\n",
            "312/312 [==============================] - 45s 144ms/step - loss: 1.7166 - accuracy: 0.0901 - val_loss: 1.5572 - val_accuracy: 0.0778 - lr: 0.0010\n",
            "Epoch 25/500\n",
            "312/312 [==============================] - 45s 145ms/step - loss: 1.7242 - accuracy: 0.0931 - val_loss: 1.5941 - val_accuracy: 0.0654 - lr: 0.0010\n",
            "Epoch 26/500\n",
            "312/312 [==============================] - 45s 145ms/step - loss: 1.7078 - accuracy: 0.0905 - val_loss: 1.5808 - val_accuracy: 0.0841 - lr: 0.0010\n",
            "Epoch 27/500\n",
            "312/312 [==============================] - 45s 145ms/step - loss: 1.6944 - accuracy: 0.0944 - val_loss: 1.6286 - val_accuracy: 0.0778 - lr: 0.0010\n",
            "Epoch 28/500\n",
            "312/312 [==============================] - 45s 144ms/step - loss: 1.6904 - accuracy: 0.0917 - val_loss: 1.5358 - val_accuracy: 0.0973 - lr: 0.0010\n",
            "Epoch 29/500\n",
            "312/312 [==============================] - 45s 145ms/step - loss: 1.6942 - accuracy: 0.0916 - val_loss: 1.5140 - val_accuracy: 0.0799 - lr: 0.0010\n",
            "Epoch 30/500\n",
            "312/312 [==============================] - 45s 144ms/step - loss: 1.6841 - accuracy: 0.0948 - val_loss: 1.5383 - val_accuracy: 0.0680 - lr: 0.0010\n",
            "Epoch 31/500\n",
            "312/312 [==============================] - 45s 145ms/step - loss: 1.6883 - accuracy: 0.0930 - val_loss: 1.5618 - val_accuracy: 0.0767 - lr: 0.0010\n",
            "Epoch 32/500\n",
            "312/312 [==============================] - 45s 144ms/step - loss: 1.6796 - accuracy: 0.0954 - val_loss: 1.5567 - val_accuracy: 0.1005 - lr: 0.0010\n",
            "Epoch 33/500\n",
            "312/312 [==============================] - 45s 145ms/step - loss: 1.6713 - accuracy: 0.0942 - val_loss: 1.4830 - val_accuracy: 0.0945 - lr: 0.0010\n",
            "Epoch 34/500\n",
            "312/312 [==============================] - 45s 145ms/step - loss: 1.6687 - accuracy: 0.0938 - val_loss: 1.4901 - val_accuracy: 0.0985 - lr: 0.0010\n",
            "Epoch 35/500\n",
            "312/312 [==============================] - 45s 144ms/step - loss: 1.6613 - accuracy: 0.0941 - val_loss: 1.5364 - val_accuracy: 0.1107 - lr: 0.0010\n",
            "Epoch 36/500\n",
            "312/312 [==============================] - 45s 144ms/step - loss: 1.6622 - accuracy: 0.0938 - val_loss: 1.5274 - val_accuracy: 0.0977 - lr: 0.0010\n",
            "Epoch 37/500\n",
            "312/312 [==============================] - 45s 145ms/step - loss: 1.6550 - accuracy: 0.0927 - val_loss: 1.4889 - val_accuracy: 0.0840 - lr: 0.0010\n",
            "Epoch 38/500\n",
            "312/312 [==============================] - 45s 145ms/step - loss: 1.6516 - accuracy: 0.0974 - val_loss: 1.4618 - val_accuracy: 0.0877 - lr: 0.0010\n",
            "Epoch 39/500\n",
            "312/312 [==============================] - 45s 146ms/step - loss: 1.6442 - accuracy: 0.0935 - val_loss: 1.4776 - val_accuracy: 0.0606 - lr: 0.0010\n",
            "Epoch 40/500\n",
            "312/312 [==============================] - 45s 144ms/step - loss: 1.6349 - accuracy: 0.0947 - val_loss: 1.5754 - val_accuracy: 0.0650 - lr: 0.0010\n",
            "Epoch 41/500\n",
            "312/312 [==============================] - 45s 145ms/step - loss: 1.6320 - accuracy: 0.0924 - val_loss: 1.4968 - val_accuracy: 0.0981 - lr: 0.0010\n",
            "Epoch 42/500\n",
            "312/312 [==============================] - 45s 145ms/step - loss: 1.6348 - accuracy: 0.0964 - val_loss: 1.4281 - val_accuracy: 0.0868 - lr: 0.0010\n",
            "Epoch 43/500\n",
            "312/312 [==============================] - 45s 145ms/step - loss: 1.6302 - accuracy: 0.0966 - val_loss: 1.4676 - val_accuracy: 0.0990 - lr: 0.0010\n",
            "Epoch 44/500\n",
            "312/312 [==============================] - 45s 144ms/step - loss: 1.6267 - accuracy: 0.0956 - val_loss: 1.4692 - val_accuracy: 0.0547 - lr: 0.0010\n",
            "Epoch 45/500\n",
            "312/312 [==============================] - 45s 144ms/step - loss: 1.6222 - accuracy: 0.0955 - val_loss: 1.5211 - val_accuracy: 0.0830 - lr: 0.0010\n",
            "Epoch 46/500\n",
            "312/312 [==============================] - 45s 145ms/step - loss: 1.6266 - accuracy: 0.0959 - val_loss: 1.4219 - val_accuracy: 0.0737 - lr: 0.0010\n",
            "Epoch 47/500\n",
            "312/312 [==============================] - 45s 144ms/step - loss: 1.6180 - accuracy: 0.0975 - val_loss: 1.4692 - val_accuracy: 0.0789 - lr: 0.0010\n",
            "Epoch 48/500\n",
            "312/312 [==============================] - 45s 145ms/step - loss: 1.6150 - accuracy: 0.0966 - val_loss: 1.4458 - val_accuracy: 0.0785 - lr: 0.0010\n",
            "Epoch 49/500\n",
            "312/312 [==============================] - 45s 145ms/step - loss: 1.6106 - accuracy: 0.0956 - val_loss: 1.4655 - val_accuracy: 0.0486 - lr: 0.0010\n",
            "Epoch 50/500\n",
            "312/312 [==============================] - 45s 144ms/step - loss: 1.6192 - accuracy: 0.0945 - val_loss: 1.4323 - val_accuracy: 0.1162 - lr: 0.0010\n",
            "Epoch 51/500\n",
            "312/312 [==============================] - 45s 145ms/step - loss: 1.6054 - accuracy: 0.0944 - val_loss: 1.4705 - val_accuracy: 0.0780 - lr: 0.0010\n",
            "Epoch 52/500\n",
            "312/312 [==============================] - 45s 144ms/step - loss: 1.6146 - accuracy: 0.0971 - val_loss: 1.4753 - val_accuracy: 0.0576 - lr: 0.0010\n",
            "Epoch 53/500\n",
            "312/312 [==============================] - 45s 144ms/step - loss: 1.6112 - accuracy: 0.0967 - val_loss: 1.4349 - val_accuracy: 0.0768 - lr: 0.0010\n",
            "Epoch 54/500\n",
            "312/312 [==============================] - 45s 144ms/step - loss: 1.6066 - accuracy: 0.0965 - val_loss: 1.4566 - val_accuracy: 0.0661 - lr: 0.0010\n",
            "Epoch 55/500\n",
            "312/312 [==============================] - 45s 144ms/step - loss: 1.6061 - accuracy: 0.0949 - val_loss: 1.4980 - val_accuracy: 0.0835 - lr: 0.0010\n",
            "Epoch 56/500\n",
            "312/312 [==============================] - ETA: 0s - loss: 1.6006 - accuracy: 0.0971\n",
            "Epoch 56: ReduceLROnPlateau reducing learning rate to 0.00010000000474974513.\n",
            "312/312 [==============================] - 45s 144ms/step - loss: 1.6006 - accuracy: 0.0971 - val_loss: 1.4580 - val_accuracy: 0.0651 - lr: 0.0010\n",
            "Epoch 57/500\n",
            "312/312 [==============================] - 45s 144ms/step - loss: 1.5406 - accuracy: 0.0963 - val_loss: 1.4119 - val_accuracy: 0.0759 - lr: 1.0000e-04\n",
            "Epoch 58/500\n",
            "312/312 [==============================] - 45s 145ms/step - loss: 1.5247 - accuracy: 0.0963 - val_loss: 1.3703 - val_accuracy: 0.0901 - lr: 1.0000e-04\n",
            "Epoch 59/500\n",
            "312/312 [==============================] - 45s 144ms/step - loss: 1.5221 - accuracy: 0.0973 - val_loss: 1.3810 - val_accuracy: 0.0876 - lr: 1.0000e-04\n",
            "Epoch 60/500\n",
            "312/312 [==============================] - 45s 144ms/step - loss: 1.5134 - accuracy: 0.0967 - val_loss: 1.3836 - val_accuracy: 0.0953 - lr: 1.0000e-04\n",
            "Epoch 61/500\n",
            "312/312 [==============================] - 45s 143ms/step - loss: 1.5105 - accuracy: 0.0976 - val_loss: 1.3700 - val_accuracy: 0.0814 - lr: 1.0000e-04\n",
            "Epoch 62/500\n",
            "312/312 [==============================] - 45s 144ms/step - loss: 1.5061 - accuracy: 0.0981 - val_loss: 1.3869 - val_accuracy: 0.0817 - lr: 1.0000e-04\n",
            "Epoch 63/500\n",
            "312/312 [==============================] - 45s 144ms/step - loss: 1.5066 - accuracy: 0.0975 - val_loss: 1.3490 - val_accuracy: 0.0842 - lr: 1.0000e-04\n",
            "Epoch 64/500\n",
            "312/312 [==============================] - 45s 144ms/step - loss: 1.5061 - accuracy: 0.0978 - val_loss: 1.3657 - val_accuracy: 0.0818 - lr: 1.0000e-04\n",
            "Epoch 65/500\n",
            "312/312 [==============================] - 45s 143ms/step - loss: 1.4997 - accuracy: 0.0960 - val_loss: 1.3844 - val_accuracy: 0.0734 - lr: 1.0000e-04\n",
            "Epoch 66/500\n",
            "312/312 [==============================] - 45s 144ms/step - loss: 1.5002 - accuracy: 0.0977 - val_loss: 1.3677 - val_accuracy: 0.0952 - lr: 1.0000e-04\n",
            "Epoch 67/500\n",
            "312/312 [==============================] - 45s 145ms/step - loss: 1.4991 - accuracy: 0.0972 - val_loss: 1.3597 - val_accuracy: 0.0992 - lr: 1.0000e-04\n",
            "Epoch 68/500\n",
            "312/312 [==============================] - 45s 144ms/step - loss: 1.4975 - accuracy: 0.0965 - val_loss: 1.3393 - val_accuracy: 0.0898 - lr: 1.0000e-04\n",
            "Epoch 69/500\n",
            "312/312 [==============================] - 45s 145ms/step - loss: 1.4977 - accuracy: 0.0991 - val_loss: 1.3743 - val_accuracy: 0.0802 - lr: 1.0000e-04\n",
            "Epoch 70/500\n",
            "312/312 [==============================] - 45s 144ms/step - loss: 1.5005 - accuracy: 0.0956 - val_loss: 1.3428 - val_accuracy: 0.0900 - lr: 1.0000e-04\n",
            "Epoch 71/500\n",
            "312/312 [==============================] - 45s 144ms/step - loss: 1.4971 - accuracy: 0.0968 - val_loss: 1.3769 - val_accuracy: 0.0909 - lr: 1.0000e-04\n",
            "Epoch 72/500\n",
            "312/312 [==============================] - 45s 145ms/step - loss: 1.4958 - accuracy: 0.0983 - val_loss: 1.3822 - val_accuracy: 0.0875 - lr: 1.0000e-04\n",
            "Epoch 73/500\n",
            "225/312 [====================>.........] - ETA: 11s - loss: 1.4902 - accuracy: 0.1002"
          ]
        }
      ]
    },
    {
      "cell_type": "code",
      "source": [
        "# history = model.fit(x_train, y_train, epochs=100, validation_data=(x_test, y_test), batch_size=1000)"
      ],
      "metadata": {
        "id": "YnwKzBPDrN3F"
      },
      "execution_count": null,
      "outputs": []
    },
    {
      "cell_type": "code",
      "source": [
        "import random\n",
        "sum = 0\n",
        "for i in range(10):\n",
        "  ch = random.choice(range(x_test.shape[0]))\n",
        "  sum += model.predict(x_test[ch].reshape(1,32,32,3)).argmax() == y_test[ch]\n",
        "  print(f\"Prediction  {class_names[model.predict(x_test[ch].reshape(1,32,32,3)).argmax()]} for {class_names[y_test[ch][0]]} \")\n",
        "\n",
        "print(sum)"
      ],
      "metadata": {
        "id": "mj3q_q_R3_QL"
      },
      "execution_count": null,
      "outputs": []
    },
    {
      "cell_type": "code",
      "source": [
        "y_test[0]"
      ],
      "metadata": {
        "id": "9z-L6aCj4T9t"
      },
      "execution_count": null,
      "outputs": []
    },
    {
      "cell_type": "code",
      "source": [
        "import pandas as pd\n",
        "pd.DataFrame(history.history).plot(figsize=(8, 5))"
      ],
      "metadata": {
        "id": "_Nbogit55bRl"
      },
      "execution_count": null,
      "outputs": []
    },
    {
      "cell_type": "code",
      "source": [],
      "metadata": {
        "id": "x7DnRgb6JcVP"
      },
      "execution_count": null,
      "outputs": []
    }
  ]
}